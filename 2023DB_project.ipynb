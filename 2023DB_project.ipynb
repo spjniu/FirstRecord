{
 "cells": [
  {
   "cell_type": "code",
   "execution_count": 1,
   "metadata": {},
   "outputs": [],
   "source": [
    "import sqlite3\n",
    "import requests\n",
    "\n",
    "conn = sqlite3.connect(\"2023DB_project.db\")\n",
    "cursor = conn.cursor()"
   ]
  },
  {
   "cell_type": "markdown",
   "metadata": {},
   "source": [
    "- SQlite와 연동하기 위해 sqlite3, API에서 데이터를 가져오기 위해 requests 임포트\n",
    "- connect 함수를 사용해 공영주차장과 관광지목록 테이블, 추천관광지 뷰가 있는 2023DB_project.db에 연결\n",
    "- 쿼리를 실행하고 데이터를 조작하기 위해 커서 생성"
   ]
  },
  {
   "cell_type": "code",
   "execution_count": 2,
   "metadata": {},
   "outputs": [],
   "source": [
    "key = \"Hi4UuFuDdMfKYw5awA7KWXcLKxjXgu4JztYQQ7hpKB7DDhBhvmMzBIHXivGmgVcl\"\n",
    "endpoint = \"https://incheon.openapi.redtable.global/api/rstr/korean\"\n",
    "url = f\"{endpoint}?serviceKey={key}\"\n",
    "\n",
    "response = requests.get(url)"
   ]
  },
  {
   "cell_type": "markdown",
   "metadata": {},
   "source": [
    "공공데이터포털의 오픈 API 음식점 정보 데이터베이스와 연결하기 위해 개인 인증키와 서비스 url을 얻어 get을 통해 연결"
   ]
  },
  {
   "cell_type": "code",
   "execution_count": 3,
   "metadata": {},
   "outputs": [],
   "source": [
    "def parkinglot_nearby_spot(name):\n",
    "    parkinglot_id=0\n",
    "    if name=='월미테마파크':\n",
    "        parkinglot_id=77\n",
    "    elif name=='인천 차이나타운':\n",
    "        parkinglot_id=76\n",
    "    elif name=='소래포구':\n",
    "        parkinglot_id=564\n",
    "    elif name=='강화 전등사':\n",
    "        parkinglot_id=675\n",
    "    elif name=='송월동 동화마을':\n",
    "        parkinglot_id=79\n",
    "    elif name=='인천상륙작전기념관':\n",
    "        parkinglot_id=678\n",
    "    elif name=='짜장면박물관':\n",
    "        parkinglot_id=76\n",
    "    elif name=='수도국산 달동네박물관':\n",
    "        parkinglot_id=680\n",
    "    else:\n",
    "        parkinglot_id=0\n",
    "    return parkinglot_id"
   ]
  },
  {
   "cell_type": "markdown",
   "metadata": {},
   "source": [
    "관광지와 가장 가까운 공영주차장 정보를 출력해주기 위해 위도와 경도를 이용해  가장 가까운 주차장을 찾고 objectid를 이용해 참조해주려고 했지만 데이터가 많아 구현하지 못했다. 추천관광지 목록을 선정하여 뷰로 만든 뒤 파이썬 함수에서 약식으로 구현했다."
   ]
  },
  {
   "cell_type": "code",
   "execution_count": 4,
   "metadata": {},
   "outputs": [
    {
     "name": "stdout",
     "output_type": "stream",
     "text": [
      "인천광역시 이번 달의 추천관광지 목록입니다.\n",
      "- 강화 전등사\n",
      "- 옥토끼우주센터\n",
      "- 월미테마파크\n",
      "- 인천 차이나타운\n",
      "- 소래포구\n",
      "- 송월동 동화마을\n",
      "- 수도국산 달동네박물관\n",
      "- 인천상륙작전기념관\n",
      "- 짜장면박물관\n",
      "- 강화자연사박물관\n"
     ]
    }
   ],
   "source": [
    "spot_all_query = \"\"\"\n",
    "    SELECT \n",
    "        제목\n",
    "    FROM \n",
    "        추천관광지\n",
    "\"\"\"\n",
    "\n",
    "spot_all_result = cursor.execute(spot_all_query)\n",
    "print(\"인천광역시 이번 달의 추천관광지 목록입니다.\")\n",
    "for row in spot_all_result:\n",
    "    print(\"-\",row[0])"
   ]
  },
  {
   "cell_type": "markdown",
   "metadata": {},
   "source": [
    "- 사용자가 처음 어플을 실행시키면 추천관광지 제목을 출력해 관광을 돕는 부분.\n",
    "- 임의로 선정한 관광지를 추천관광지 뷰로 만들어 출력해준다."
   ]
  },
  {
   "cell_type": "code",
   "execution_count": 5,
   "metadata": {},
   "outputs": [
    {
     "name": "stdout",
     "output_type": "stream",
     "text": [
      "제목: 애관극장\n",
      "주소: 인천 중구 개항로 63-2\n",
      "전화번호: 032-761-7177\n",
      "반려동물 동반 가능 정보: 불가\n",
      "주차시설: 있음\n",
      "쉬는 날: 없음\n",
      "이용시간: 09:30~21:00\n",
      "이용요금: 성인 7000원<br>\n",
      "학생 6000원<br>\n",
      "경로우대 및 조조 5000원\n",
      "화장실 설명: 있음 (남녀구분, 건물 내부 위치)\n",
      "주변에 공영주차장이 없습니다.\n"
     ]
    }
   ],
   "source": [
    "name = input(\"알아보고 싶은 관광지를 입력하세요: \")\n",
    "\n",
    "spot_query = f\"\"\"\n",
    "    SELECT \n",
    "        제목, \n",
    "        주소, \n",
    "        전화번호, \n",
    "        애완동물동반가능정보, \n",
    "        주차시설, \n",
    "        쉬는날, \n",
    "        이용시간, \n",
    "        이용요금, \n",
    "        화장실설명 \n",
    "    FROM \n",
    "        관광지목록 \n",
    "    WHERE \n",
    "        제목 = '{name}'\n",
    "\"\"\"\n",
    "\n",
    "parking_lot = parkinglot_nearby_spot(name)\n",
    "\n",
    "pLot_query = f\"\"\"\n",
    "    SELECT \n",
    "        이름 \n",
    "    FROM \n",
    "        공영주차장\n",
    "    WHERE \n",
    "        ObjectID = {parking_lot}\n",
    "\"\"\"\n",
    "\n",
    "spot_result = cursor.execute(spot_query)\n",
    "\n",
    "for row in spot_result:\n",
    "    print(\"제목:\", row[0])\n",
    "    print(\"주소:\", row[1])\n",
    "    print(\"전화번호:\", row[2])\n",
    "    print(\"반려동물 동반 가능 정보:\", row[3])\n",
    "    print(\"주차시설:\", row[4])\n",
    "    print(\"쉬는 날:\", row[5])\n",
    "    print(\"이용시간:\", row[6])\n",
    "    print(\"이용요금:\", row[7])\n",
    "    print(\"화장실 설명:\", row[8])\n",
    "\n",
    "pLot_result = cursor.execute(pLot_query).fetchall()\n",
    "if len(pLot_result) == 0:\n",
    "    print(\"주변에 공영주차장이 없습니다.\")\n",
    "else:\n",
    "    # 튜플의 첫 번째 요소를 출력\n",
    "    print(f\"인근 공영주차장: {pLot_result[0][0]}\")"
   ]
  },
  {
   "cell_type": "markdown",
   "metadata": {},
   "source": [
    "출력해준 추천관광지, 혹은 그 외에 정보를 알아보고 싶은 관광지의 이름을 입력하면 관광지에 대한 상세 정보와 주변 공영주차장 정보까지 출력해주는 부분."
   ]
  },
  {
   "cell_type": "code",
   "execution_count": null,
   "metadata": {},
   "outputs": [],
   "source": [
    "Rstr_name=input(\"주변의 음식점을 검색하기 위해 목적지의 군구정보를 입력해주세요(ex. 남동구, 강화군):\")\n",
    "\n",
    "if response.status_code == 200:\n",
    "    try:\n",
    "        response_body = response.json()['body']\n",
    "        for item in response_body:\n",
    "            if Rstr_name in item['LOTNO_ADDR']:\n",
    "                print(\"가게 이름:\",item['RSTR_NM'])\n",
    "                print(\"도로명주소:\",item['ROAD_NM_ADDR'])\n",
    "                print(\"지번주소:\",item['LOTNO_ADDR'])\n",
    "    except KeyError as e:\n",
    "        print(f'KeyError: {e}')\n",
    "else:\n",
    "    print(f'Error code: {response}')"
   ]
  },
  {
   "cell_type": "markdown",
   "metadata": {},
   "source": [
    "관광지 주변에 있는 음식점들을 검색할 수 있도록 군이나 구 정보를 입력하면 인천시 내의 해당 군이나 구의 모든 음식점을 출력해준다."
   ]
  },
  {
   "cell_type": "code",
   "execution_count": null,
   "metadata": {},
   "outputs": [],
   "source": [
    "Rstr_name=input(\"상세정보를 알고싶은 음식점 이름을 정확히 입력해주세요:\")\n",
    "\n",
    "if response.status_code == 200:\n",
    "    try:\n",
    "        response_body = response.json()['body']\n",
    "        for item in response_body:\n",
    "            if item['RSTR_NM']==Rstr_name:\n",
    "                print(item['RSTR_NM'])\n",
    "                print(item['ROAD_NM_ADDR'])\n",
    "                print(item['LOTNO_ADDR'])\n",
    "                print(item['RSTR_RPRS_TELNO'])\n",
    "                print(item['RSTR_EXPLN_CN'])\n",
    "    except KeyError as e:\n",
    "        print(f'KeyError: {e}')\n",
    "else:\n",
    "    print(f'Error code: {response}')"
   ]
  },
  {
   "cell_type": "markdown",
   "metadata": {},
   "source": [
    "지역의 모든 음식점을 확인한 사용자가 그 중에서 원하는 음식점의 이름을 입력하면 그 음식점에 대한 상세정보를 출력해준다."
   ]
  },
  {
   "cell_type": "code",
   "execution_count": null,
   "metadata": {},
   "outputs": [],
   "source": [
    "conn.close()"
   ]
  },
  {
   "cell_type": "markdown",
   "metadata": {},
   "source": [
    "코드 사용 후 2023DB_project.db와의 연결을 끊어준다"
   ]
  }
 ],
 "metadata": {
  "kernelspec": {
   "display_name": "Python 3",
   "language": "python",
   "name": "python3"
  },
  "language_info": {
   "codemirror_mode": {
    "name": "ipython",
    "version": 3
   },
   "file_extension": ".py",
   "mimetype": "text/x-python",
   "name": "python",
   "nbconvert_exporter": "python",
   "pygments_lexer": "ipython3",
   "version": "3.11.5"
  }
 },
 "nbformat": 4,
 "nbformat_minor": 2
}
