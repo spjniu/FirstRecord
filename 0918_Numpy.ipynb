{
  "nbformat": 4,
  "nbformat_minor": 0,
  "metadata": {
    "colab": {
      "provenance": [],
      "authorship_tag": "ABX9TyNh5JSsC0e9uYG9R7osT37f",
      "include_colab_link": true
    },
    "kernelspec": {
      "name": "python3",
      "display_name": "Python 3"
    },
    "language_info": {
      "name": "python"
    }
  },
  "cells": [
    {
      "cell_type": "markdown",
      "metadata": {
        "id": "view-in-github",
        "colab_type": "text"
      },
      "source": [
        "<a href=\"https://colab.research.google.com/github/spjniu/FirstRecord/blob/main/0918_Numpy.ipynb\" target=\"_parent\"><img src=\"https://colab.research.google.com/assets/colab-badge.svg\" alt=\"Open In Colab\"/></a>"
      ]
    },
    {
      "cell_type": "code",
      "execution_count": null,
      "metadata": {
        "id": "cy3dL8iMNvam"
      },
      "outputs": [],
      "source": []
    },
    {
      "cell_type": "markdown",
      "source": [
        "##Tensor experiment using Numpy and Colab"
      ],
      "metadata": {
        "id": "6SEU_AabN7nC"
      }
    },
    {
      "cell_type": "markdown",
      "source": [
        "Tensor creation"
      ],
      "metadata": {
        "id": "fIqT-nHwOTl5"
      }
    },
    {
      "cell_type": "code",
      "source": [
        "import numpy as np\n",
        "#rank 1 tensor\n",
        "\n",
        "#a = np.array([1,2,3,5,6,9,10])\n",
        "##a = np.array([1,2,3,5,6,9,10],dtype=np.float32)\n",
        "#print(a.shape)\n",
        "#print(a.ndim)\n",
        "#print(a.dtype)\n",
        "\n",
        "#rank 2 tensor\n",
        "a = np.matrix(([1,2,3,4],[5,6,7,8]),dtype=np.float32)\n",
        "print(a)\n",
        "print(a.shape)\n",
        "print(a.ndim)\n",
        "print(a.dtype)"
      ],
      "metadata": {
        "id": "hO2qmOikOP9Z"
      },
      "execution_count": null,
      "outputs": []
    },
    {
      "cell_type": "code",
      "source": [
        "#np.ones, np.zeros\n",
        "\n",
        "#a=np.ones((3,4,2))\n",
        "#a=np.zeros((3,4,2))\n",
        "a=np.random.random((4,2))\n",
        "print(a)\n",
        "\n",
        "#c= np.random.standard_normal((4,2))\n",
        "c= np.random.randn(4,2)\n",
        "print(c)"
      ],
      "metadata": {
        "id": "4_JxzjTuP3pp"
      },
      "execution_count": null,
      "outputs": []
    },
    {
      "cell_type": "markdown",
      "source": [
        "Reshaping"
      ],
      "metadata": {
        "id": "wJKpJpZnSFwk"
      }
    },
    {
      "cell_type": "code",
      "source": [
        "a = np.arange(8)\n",
        "print(a)\n",
        "#b = np.reshape(a,(2,4))\n",
        "b = np.reshape(a,(2,2,-1)) # == (2,2,2)\n",
        "b[0,0,0]=100\n",
        "print(b)\n",
        "print(a)\n",
        "#reshape는 원본을 변경"
      ],
      "metadata": {
        "id": "ySVA1vKsSEsF"
      },
      "execution_count": null,
      "outputs": []
    },
    {
      "cell_type": "code",
      "source": [
        "a=np.arange(8)\n",
        "print(a.shape)\n",
        "#b = a[np.newaxis,:]\n",
        "b = a[np.newaxis,:,np.newaxis]\n",
        "print(b.shape)\n",
        "\n",
        "#c = np.expand_dims(a,axis=0) #앞\n",
        "#c = np.expand_dims(a,axis=1) #뒤\n",
        "c = np.expand_dims(a,axis=(0,2)) #양쪽에\n",
        "print(c.shape)\n",
        "\n",
        "d = np.squeeze(c)\n",
        "print(d.shape)"
      ],
      "metadata": {
        "id": "zEX-JfDYS2nf"
      },
      "execution_count": null,
      "outputs": []
    },
    {
      "cell_type": "markdown",
      "source": [
        "###Indexing"
      ],
      "metadata": {
        "id": "zLk9I4gOVLqO"
      }
    },
    {
      "cell_type": "code",
      "source": [
        "a=np.arange(16).reshape(4,4)\n",
        "print(a)\n",
        "#print(a[0:3,0:3])\n",
        "\n",
        "#integer indexing\n",
        "label=[0,3,2,1]\n",
        "print(a[np.arange(4),label])\n",
        "\n",
        "print(a[np.arange(4),np.arange(4)])\n",
        "\n",
        "print(a[np.arange(4),3-np.arange(4)])"
      ],
      "metadata": {
        "id": "3ix7SHK0VP7B"
      },
      "execution_count": null,
      "outputs": []
    },
    {
      "cell_type": "code",
      "source": [
        "a = np.random.standard_normal((5,5))\n",
        "print(a)\n",
        "#b = a<0\n",
        "#print(b)\n",
        "#a[b]=0\n",
        "#print(a)\n",
        "a[a<0]=0\n",
        "print(a)"
      ],
      "metadata": {
        "id": "FLDUZD3IV9e7"
      },
      "execution_count": null,
      "outputs": []
    },
    {
      "cell_type": "markdown",
      "source": [
        "### Array math"
      ],
      "metadata": {
        "id": "xhAuyKk_Y5XK"
      }
    },
    {
      "cell_type": "code",
      "source": [
        "x = np.arange(1,5).reshape(2,-1)\n",
        "y = np.arange(5,9).reshape(2,-1)\n",
        "print(f\"x:\\n{x}\")\n",
        "print(f\"y:\\n{y}\")\n",
        "print(x*y) # + - * / 사칙연산\n",
        "\n",
        "print(np.dot(x,y)) #매트릭스곱 연산\n",
        "\n",
        "print(np.log10(x)) #엘리먼트별 연산, sqrt, exp, log, log10, log2, sin, cos, tan, ...\n",
        "\n"
      ],
      "metadata": {
        "id": "EBaXirAKZDOb"
      },
      "execution_count": null,
      "outputs": []
    },
    {
      "cell_type": "markdown",
      "source": [
        "### aggregation"
      ],
      "metadata": {
        "id": "yuem1-Feawji"
      }
    },
    {
      "cell_type": "code",
      "source": [
        "#a = np.arange(20).reshape(5,4)\n",
        "a = np.random.random(20).reshape(5,4)\n",
        "print(a)\n",
        "#print(np.mean(a)) # mean, min, max\n",
        "#print(np.mean(a,axis=0)) #첫번째 axis를 따라 mean\n",
        "\n",
        "print(np.argmax(a)) #1차원으로 해석했을때 max값, mean, max, min\n",
        "print(np.argmax(a,axis=1))"
      ],
      "metadata": {
        "id": "qrtb4LN8azBJ"
      },
      "execution_count": null,
      "outputs": []
    },
    {
      "cell_type": "markdown",
      "source": [
        "### Broadcasting"
      ],
      "metadata": {
        "id": "FQAaQ-6Fckuc"
      }
    },
    {
      "cell_type": "code",
      "source": [
        "x = np.arange(12).reshape(4,-1)\n",
        "print(x)\n",
        "y=np.array([0,1,2])\n",
        "#y = np.array([0,1,2,3]) -> 이건 안됨.\n",
        "\n",
        "y= np.array([0,1,2,3])\n",
        "print(y)\n",
        "print(y.shape)\n",
        "\n",
        "y = np.expand_dims(y,axis =1)\n",
        "print(y.shape)\n",
        "print(x+y)"
      ],
      "metadata": {
        "id": "m_cp_aBfcnFq"
      },
      "execution_count": null,
      "outputs": []
    }
  ]
}